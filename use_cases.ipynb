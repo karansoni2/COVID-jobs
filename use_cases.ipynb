{
 "cells": [
  {
   "cell_type": "markdown",
   "metadata": {},
   "source": [
    "## INFO 6210 Data Management and Database Design, Final Project\n",
    "Jobs DB - COVID Jobs Database\n",
    "Karan Soni\n",
    "soni.ka@husky.neu.edu"
   ]
  },
  {
   "cell_type": "markdown",
   "metadata": {},
   "source": [
    "### Usecases"
   ]
  },
  {
   "cell_type": "markdown",
   "metadata": {},
   "source": [
    "#UseCase 1 - Select Get a List of 'Analyst' Jobs\n",
    "\n",
    "SELECT A.jobTitle AS JOBS FROM JOBS_DB A WHERE A.jobTiltle LIKE '%Analyst%';\n"
   ]
  },
  {
   "cell_type": "markdown",
   "metadata": {},
   "source": [
    "#UseCase 2- Get a list of all the internships\n",
    "\n",
    "SELECT * FROM JOBS WHERE jobTitle LIKE '%Intern%';\n"
   ]
  },
  {
   "cell_type": "markdown",
   "metadata": {},
   "source": [
    "#UseCase 3- Get a job listing with the the ID 2005\n",
    "\n",
    "SELECT * FROM JOBS WHERE ID='2005';\n"
   ]
  },
  {
   "cell_type": "markdown",
   "metadata": {},
   "source": [
    "#UseCase 4- Get the IDs for job lisiting with 'apple.com' is in the url\n",
    "\n",
    "SELECT ID FROM JOBS WHERE url LIKE '%apple.com%';\n"
   ]
  },
  {
   "cell_type": "markdown",
   "metadata": {},
   "source": [
    "#UseCase 5 - Get a list of all the job roles similar to remote jobs\n",
    "\n",
    "SELECT jobTitle FROM JOBS \n",
    "WHERE jobDetails LIKE '%Remote%';"
   ]
  }
 ],
 "metadata": {
  "kernelspec": {
   "display_name": "Python [Root]",
   "language": "python",
   "name": "Python [Root]"
  },
  "language_info": {
   "codemirror_mode": {
    "name": "ipython",
    "version": 3
   },
   "file_extension": ".py",
   "mimetype": "text/x-python",
   "name": "python",
   "nbconvert_exporter": "python",
   "pygments_lexer": "ipython3",
   "version": "3.5.2"
  }
 },
 "nbformat": 4,
 "nbformat_minor": 0
}
