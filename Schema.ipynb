{
 "cells": [
  {
   "cell_type": "markdown",
   "metadata": {},
   "source": [
    "# Database Schema"
   ]
  },
  {
   "cell_type": "markdown",
   "metadata": {
    "collapsed": true
   },
   "source": [
    "Jobs table"
   ]
  },
  {
   "cell_type": "code",
   "execution_count": null,
   "metadata": {
    "collapsed": true
   },
   "outputs": [],
   "source": [
    "CREATE TABLE `cs5200_sp20`.`Jobs` (\n",
    "  `id` INT NOT NULL AUTO_INCREMENT,\n",
    "  `jobDetails` VARCHAR(100) NULL,\n",
    "  `jobTitle` VARCHAR(45) NULL,\n",
    "  `url` VARCHAR(45) NOT NULL,\n",
    "  `companyId` INT NOT NULL,\n",
    "  FOREIGN KEY(`companyId`) references `cs5200_sp20`.`Comapny`.id\n",
    "  PRIMARY KEY (`id`));\n"
   ]
  },
  {
   "cell_type": "markdown",
   "metadata": {},
   "source": [
    "GlassdoorRatings table"
   ]
  },
  {
   "cell_type": "code",
   "execution_count": null,
   "metadata": {
    "collapsed": true
   },
   "outputs": [],
   "source": [
    "CREATE TABLE `cs5200_sp20`.`GlassdoorReview` (\n",
    "  `companyId` INT NOT NULL AUTO_INCREMENT,\n",
    "  `rating` INT NULL,\n",
    "   FOREIGN KEY(`companyId`) references `cs5200_sp20`.`Comapny`.id\n",
    "  PRIMARY KEY (`companyId`));\n"
   ]
  },
  {
   "cell_type": "markdown",
   "metadata": {},
   "source": [
    "Company table"
   ]
  },
  {
   "cell_type": "code",
   "execution_count": null,
   "metadata": {
    "collapsed": true
   },
   "outputs": [],
   "source": [
    "CREATE TABLE `cs5200_sp20`.`Comapny` (\n",
    "  `id` INT NOT NULL AUTO_INCREMENT,\n",
    "  `companyName` VARCHAR(45) NULL,\n",
    "  `address` VARCHAR(45) NULL,\n",
    "  `phoneNumber` INT NULL,\n",
    "  PRIMARY KEY (`id`));\n"
   ]
  }
 ],
 "metadata": {
  "kernelspec": {
   "display_name": "Python [Root]",
   "language": "python",
   "name": "Python [Root]"
  },
  "language_info": {
   "codemirror_mode": {
    "name": "ipython",
    "version": 3
   },
   "file_extension": ".py",
   "mimetype": "text/x-python",
   "name": "python",
   "nbconvert_exporter": "python",
   "pygments_lexer": "ipython3",
   "version": "3.5.2"
  }
 },
 "nbformat": 4,
 "nbformat_minor": 0
}
