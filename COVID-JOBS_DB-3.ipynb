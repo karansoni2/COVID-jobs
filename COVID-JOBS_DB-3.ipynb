{
 "cells": [
  {
   "cell_type": "markdown",
   "metadata": {},
   "source": [
    "## INFO 6210: DB Project: Jobs Database: COVID/ Corona/ Temporary Jobs Database"
   ]
  },
  {
   "cell_type": "markdown",
   "metadata": {},
   "source": [
    "Title : Jobs Database\n",
    "Author: Karan Soni\n",
    "NUID: 001448528\n",
    "\n",
    "In this project we will contribute to building a jobs database using mysql and python. \n",
    "We will each focus on job domains like COVID Jobs, Corona Virus Jobs and Temporary Jobs.\n",
    "The database is focused around specific roles, We have used an API interface to generate RAW data files containing web scrapped listings from Glassdoor and Indeed."
   ]
  },
  {
   "cell_type": "markdown",
   "metadata": {},
   "source": [
    "#### Project Abstract"
   ]
  },
  {
   "cell_type": "markdown",
   "metadata": {},
   "source": [
    "The growing spread of coronavirus has left many Americans in fear of losing their jobs, as businesses continue to shutter and authorities tell people to stay at home.\n",
    "Unemployment claims multiplied, reaching an all-time high of over 3.3 million in mid-March, with analysts expecting that number to climb. \n",
    "Conversely, a surge of companies – not just in the health care industry – are looking to hire additional employees to meet increased demands onset by the virus. "
   ]
  },
  {
   "cell_type": "markdown",
   "metadata": {},
   "source": [
    "Data Source:\n",
    "Our objective was to generate data from Job dashboards like Glassdoor and Indeed, as these webistes freely do not allow web scrapping, we used an automated API to fetch data from them. \n",
    "\n",
    "APIFY interfaces:\n",
    "1. Glassdoor - alexey/glassdoor-jobs-scraper\t\n",
    "2. Indeed - hynekhruska/indeed-scraper\t"
   ]
  },
  {
   "cell_type": "code",
   "execution_count": null,
   "metadata": {
    "collapsed": true
   },
   "outputs": [],
   "source": [
    "# JSON parameters for Indeed Jobs with keyword 'temporary'\n",
    "# POST - https://api.apify.com/v2/actor-tasks/Kp8SPPqNvsDjhZGbL/runs?token=2y8rTxfoTByNFTWZS3S7D73XD&ui=1\n",
    "{\n",
    "  \"query\": \"temporary\",\n",
    "  \"category\": \"Jobs\",\n",
    "  \"location\": \"boston\",\n",
    "  \"locationstate\": \"MA\",\n",
    "  \"maxResults\": 100000000000,\n",
    "  \"proxy\": {\n",
    "    \"useApifyProxy\": true\n",
    "  }\n",
    "}"
   ]
  },
  {
   "cell_type": "code",
   "execution_count": null,
   "metadata": {
    "collapsed": true
   },
   "outputs": [],
   "source": [
    "# JSON parameters for Indeed Jobs with keyword 'corona'\n",
    "{\n",
    "  \"query\": \"corona\",\n",
    "  \"category\": \"Jobs\",\n",
    "  \"location\": \"boston\",\n",
    "  \"locationstate\": \"MA\",\n",
    "  \"maxResults\": 100000000000,\n",
    "  \"proxy\": {\n",
    "    \"useApifyProxy\": true\n",
    "  }\n",
    "}"
   ]
  },
  {
   "cell_type": "code",
   "execution_count": null,
   "metadata": {
    "collapsed": true
   },
   "outputs": [],
   "source": [
    "# JSON parameters for Indeed Jobs with keyword 'COVID'\n",
    "{\n",
    "  \"query\": \"COVID\",\n",
    "  \"category\": \"Jobs\",\n",
    "  \"location\": \"boston\",\n",
    "  \"locationstate\": \"MA\",\n",
    "  \"maxResults\": 100000000000,\n",
    "  \"proxy\": {\n",
    "    \"useApifyProxy\": true\n",
    "  }\n",
    "}"
   ]
  },
  {
   "cell_type": "code",
   "execution_count": null,
   "metadata": {
    "collapsed": true
   },
   "outputs": [],
   "source": [
    "# JSON parameters for Glassdoor Jobs with keyword 'temporary'\n",
    "{\n",
    "  \"query\": \"temporary\",\n",
    "  \"category\": \"Jobs\",\n",
    "  \"location\": \"boston\",\n",
    "  \"locationstate\": \"MA\",\n",
    "  \"maxResults\": 100000000000,\n",
    "  \"proxy\": {\n",
    "    \"useApifyProxy\": true\n",
    "  }\n",
    "}"
   ]
  },
  {
   "cell_type": "code",
   "execution_count": null,
   "metadata": {
    "collapsed": true
   },
   "outputs": [],
   "source": [
    "# JSON parameters for Glassdoor Jobs with keyword 'corona'\n",
    "{\n",
    "  \"query\": \"corona\",\n",
    "  \"category\": \"Jobs\",\n",
    "  \"location\": \"boston\",\n",
    "  \"locationstate\": \"MA\",\n",
    "  \"maxResults\": 100000000000,\n",
    "  \"proxy\": {\n",
    "    \"useApifyProxy\": true\n",
    "  }\n",
    "}"
   ]
  },
  {
   "cell_type": "code",
   "execution_count": null,
   "metadata": {
    "collapsed": true
   },
   "outputs": [],
   "source": [
    "# JSON parameters for Glassdoor Jobs with keyword 'COVID'\n",
    "{\n",
    "  \"query\": \"COVID\",\n",
    "  \"category\": \"Jobs\",\n",
    "  \"location\": \"boston\",\n",
    "  \"locationstate\": \"MA\",\n",
    "  \"maxResults\": 100000000000,\n",
    "  \"proxy\": {\n",
    "    \"useApifyProxy\": true\n",
    "  }\n",
    "}"
   ]
  },
  {
   "cell_type": "markdown",
   "metadata": {},
   "source": [
    "Export Logs:\n",
    "my-task\talexey/glassdoor-jobs-scraper\t10\tcheck_circleSUCCEEDED\t4 minutes\t2020-04-23 19:17:19\t\n",
    "search\n",
    "check_circleSUCCEEDED\t0.1.19\t2020-04-23 19:17:19\t4 minutes\t4096 MB\t0.2799\tWEB\n",
    "cancelFAILED\t0.1.19\t2020-04-23 19:15:54\ta minute\t4096 MB\t0.0702\tWEB\n",
    "cancelFAILED\t0.1.19\t2020-04-23 19:13:13\ta minute\t4096 MB\t0.0739\tWEB\n",
    "check_circleSUCCEEDED\t0.1.19\t2020-04-23 19:11:45\ta few seconds\t4096 MB\t0.0465\tWEB\n",
    "check_circleSUCCEEDED\t0.1.19\t2020-04-23 19:10:33\ta few seconds\t4096 MB\t0.0327\tWEB\n",
    "check_circleSUCCEEDED\t0.1.19\t2020-04-23 19:02:39\t3 minutes\t4096 MB\t0.1697\tWEB\n",
    "cancelFAILED\t0.1.19\t2020-04-23 19:00:59\ta minute\t4096 MB\t0.0765\tWEB\n",
    "check_circleSUCCEEDED\t0.1.19\t2020-04-23 18:44:09\ta minute\t4096 MB\t0.0566\tWEB\n",
    "cancelFAILED\t0.1.19\t2020-04-23 18:42:59\ta few seconds\t4096 MB\t0.0415\tWEB\n",
    "cancelFAILED\t0.1.19\t2020-04-23 18:42:40\t2 minutes\t4096 MB\t0.1465\tWEB\n",
    "my-task-1\thynekhruska/indeed-scraper\t4\tcheck_circleSUCCEEDED\t16 minutes\t2020-04-23 20:11:26\t\n",
    "se\n",
    "check_circleSUCCEEDED\t0.1.8\t2020-04-23 20:11:26\t16 minutes\t1024 MB\t0.2626\tWEB\n",
    "check_circleSUCCEEDED\t0.1.8\t2020-04-23 20:00:07\t10 minutes\t1024 MB\t0.1493\tWEB\n",
    "access_timeTIMED-OUT\t0.1.8\t2020-04-23 19:38:16\t5 minutes\t1024 MB\t0.0835\tWEB\n",
    "access_timeTIMED-OUT\t0.1.8\t2020-04-23 19:24:01\t5 minutes\t1024 MB\t0.0835\tWEB"
   ]
  },
  {
   "cell_type": "code",
   "execution_count": 3,
   "metadata": {
    "collapsed": true
   },
   "outputs": [],
   "source": [
    "import requests\n",
    "import json\n",
    "import pandas as pd\n",
    "import numpy as np\n",
    "from urllib.request import urlopen"
   ]
  },
  {
   "cell_type": "markdown",
   "metadata": {},
   "source": [
    "# # Glassdoor data"
   ]
  },
  {
   "cell_type": "markdown",
   "metadata": {},
   "source": [
    "Description of Data:\n",
    "glassdoor1 = /Users/karansoni/Desktop/semester 2/DMDD/jobs-projects/data/glassdoor-covid.csv\n",
    "glassdoor2 = /Users/karansoni/Desktop/semester 2/DMDD/jobs-projects/data/glassdoor-corona.csv\n",
    "glassdoor3 = /Users/karansoni/Desktop/semester 2/DMDD/jobs-projects/data/glassdoor-temporary.csv"
   ]
  },
  {
   "cell_type": "markdown",
   "metadata": {},
   "source": [
    "### Conceptual Model"
   ]
  },
  {
   "cell_type": "code",
   "execution_count": 87,
   "metadata": {
    "collapsed": false
   },
   "outputs": [
    {
     "data": {
      "image/png": "[encoded data removed]",
      "text/plain": [
       "<IPython.core.display.Image object>"
      ]
     },
     "execution_count": 87,
     "metadata": {},
     "output_type": "execute_result"
    }
   ],
   "source": [
    "from IPython.display import Image\n",
    "Image(r'/Users/karansoni/Desktop/semester 2/DMDD/jobs-projects/conceptual.png')"
   ]
  },
  {
   "cell_type": "code",
   "execution_count": 4,
   "metadata": {
    "collapsed": false
   },
   "outputs": [
    {
     "data": {
      "text/html": [
       "<div>\n",
       "<style scoped>\n",
       "    .dataframe tbody tr th:only-of-type {\n",
       "        vertical-align: middle;\n",
       "    }\n",
       "\n",
       "    .dataframe tbody tr th {\n",
       "        vertical-align: top;\n",
       "    }\n",
       "\n",
       "    .dataframe thead th {\n",
       "        text-align: right;\n",
       "    }\n",
       "</style>\n",
       "<table border=\"1\" class=\"dataframe\">\n",
       "  <thead>\n",
       "    <tr style=\"text-align: right;\">\n",
       "      <th></th>\n",
       "      <th>companyDetails/@type</th>\n",
       "      <th>companyDetails/logo</th>\n",
       "      <th>companyDetails/name</th>\n",
       "      <th>companyDetails/sameAs</th>\n",
       "      <th>datePosted</th>\n",
       "      <th>employerName</th>\n",
       "      <th>employerRating</th>\n",
       "      <th>id</th>\n",
       "      <th>jobDetails</th>\n",
       "      <th>jobLocation/@type</th>\n",
       "      <th>...</th>\n",
       "      <th>jobLocation/geo/latitude</th>\n",
       "      <th>jobLocation/geo/longitude</th>\n",
       "      <th>jobTitle</th>\n",
       "      <th>salary/@type</th>\n",
       "      <th>salary/currency</th>\n",
       "      <th>salary/value/@type</th>\n",
       "      <th>salary/value/maxValue</th>\n",
       "      <th>salary/value/minValue</th>\n",
       "      <th>salary/value/unitText</th>\n",
       "      <th>url</th>\n",
       "    </tr>\n",
       "  </thead>\n",
       "  <tbody>\n",
       "    <tr>\n",
       "      <th>0</th>\n",
       "      <td>Organization</td>\n",
       "      <td>https://media.glassdoor.com/sqll/371652/johnle...</td>\n",
       "      <td>JOHNLEONARD</td>\n",
       "      <td>www.johnleonard.com</td>\n",
       "      <td>2020-04-21</td>\n",
       "      <td>JOHNLEONARD</td>\n",
       "      <td>4.8</td>\n",
       "      <td>3474481524</td>\n",
       "      <td>Temporary Paralegal\\n\\nSalary: DOE\\n\\n3+ years...</td>\n",
       "      <td>Place</td>\n",
       "      <td>...</td>\n",
       "      <td>42.3583</td>\n",
       "      <td>-71.0603</td>\n",
       "      <td>Temporary Paralegal #28252</td>\n",
       "      <td>MonetaryAmount</td>\n",
       "      <td>USD</td>\n",
       "      <td>QuantitativeValue</td>\n",
       "      <td>55000.0</td>\n",
       "      <td>50000.0</td>\n",
       "      <td>YEAR</td>\n",
       "      <td>https://www.glassdoor.com/job-listing/temporar...</td>\n",
       "    </tr>\n",
       "    <tr>\n",
       "      <th>1</th>\n",
       "      <td>Organization</td>\n",
       "      <td>https://media.glassdoor.com/sqll/371652/johnle...</td>\n",
       "      <td>JOHNLEONARD</td>\n",
       "      <td>www.johnleonard.com</td>\n",
       "      <td>2020-04-17</td>\n",
       "      <td>JOHNLEONARD</td>\n",
       "      <td>4.8</td>\n",
       "      <td>3498359986</td>\n",
       "      <td>Temporary Administrative Assistant\\n\\nSalary: ...</td>\n",
       "      <td>Place</td>\n",
       "      <td>...</td>\n",
       "      <td>42.3583</td>\n",
       "      <td>-71.0603</td>\n",
       "      <td>Temporary Administrative Assistant #28319</td>\n",
       "      <td>MonetaryAmount</td>\n",
       "      <td>USD</td>\n",
       "      <td>QuantitativeValue</td>\n",
       "      <td>87000.0</td>\n",
       "      <td>80000.0</td>\n",
       "      <td>YEAR</td>\n",
       "      <td>https://www.glassdoor.com/job-listing/temporar...</td>\n",
       "    </tr>\n",
       "    <tr>\n",
       "      <th>2</th>\n",
       "      <td>Organization</td>\n",
       "      <td>https://media.glassdoor.com/sqll/118246/simon-...</td>\n",
       "      <td>Simon-Kucher &amp;amp;amp; Partners</td>\n",
       "      <td>www.simon-kucher.com</td>\n",
       "      <td>2020-04-07</td>\n",
       "      <td>Simon-Kucher &amp; Partners</td>\n",
       "      <td>4.1</td>\n",
       "      <td>3284376296</td>\n",
       "      <td>About Simon-Kucher &amp; Partners For over 30 year...</td>\n",
       "      <td>Place</td>\n",
       "      <td>...</td>\n",
       "      <td>42.3683</td>\n",
       "      <td>-71.0824</td>\n",
       "      <td>Consultant, Life Sciences</td>\n",
       "      <td>MonetaryAmount</td>\n",
       "      <td>USD</td>\n",
       "      <td>QuantitativeValue</td>\n",
       "      <td>139233.0</td>\n",
       "      <td>108799.0</td>\n",
       "      <td>YEAR</td>\n",
       "      <td>https://www.glassdoor.com/job-listing/consulta...</td>\n",
       "    </tr>\n",
       "    <tr>\n",
       "      <th>3</th>\n",
       "      <td>Organization</td>\n",
       "      <td>https://media.glassdoor.com/sqll/5631/trader-j...</td>\n",
       "      <td>Trader Joe&amp;amp;#039;s</td>\n",
       "      <td>www.traderjoes.com</td>\n",
       "      <td>2020-04-20</td>\n",
       "      <td>Trader Joe's</td>\n",
       "      <td>4.2</td>\n",
       "      <td>3536984411</td>\n",
       "      <td>At this time workers across the country are im...</td>\n",
       "      <td>Place</td>\n",
       "      <td>...</td>\n",
       "      <td>42.3583</td>\n",
       "      <td>-71.0603</td>\n",
       "      <td>Temporary Retail Store Associate</td>\n",
       "      <td>NaN</td>\n",
       "      <td>NaN</td>\n",
       "      <td>NaN</td>\n",
       "      <td>NaN</td>\n",
       "      <td>NaN</td>\n",
       "      <td>NaN</td>\n",
       "      <td>https://www.glassdoor.com/job-listing/temporar...</td>\n",
       "    </tr>\n",
       "    <tr>\n",
       "      <th>4</th>\n",
       "      <td>Organization</td>\n",
       "      <td>https://media.glassdoor.com/sqll/371652/johnle...</td>\n",
       "      <td>JOHNLEONARD</td>\n",
       "      <td>www.johnleonard.com</td>\n",
       "      <td>2020-04-08</td>\n",
       "      <td>JOHNLEONARD</td>\n",
       "      <td>4.8</td>\n",
       "      <td>3549912036</td>\n",
       "      <td>Temporary Billing Specialist\\n\\nSalary: DOE\\n\\...</td>\n",
       "      <td>Place</td>\n",
       "      <td>...</td>\n",
       "      <td>42.3583</td>\n",
       "      <td>-71.0603</td>\n",
       "      <td>Temporary Billing Specialist #27819</td>\n",
       "      <td>MonetaryAmount</td>\n",
       "      <td>USD</td>\n",
       "      <td>QuantitativeValue</td>\n",
       "      <td>80000.0</td>\n",
       "      <td>75000.0</td>\n",
       "      <td>YEAR</td>\n",
       "      <td>https://www.glassdoor.com/job-listing/temporar...</td>\n",
       "    </tr>\n",
       "  </tbody>\n",
       "</table>\n",
       "<p>5 rows × 27 columns</p>\n",
       "</div>"
      ],
      "text/plain": [
       "  companyDetails/@type                                companyDetails/logo  \\\n",
       "0         Organization  https://media.glassdoor.com/sqll/371652/johnle...   \n",
       "1         Organization  https://media.glassdoor.com/sqll/371652/johnle...   \n",
       "2         Organization  https://media.glassdoor.com/sqll/118246/simon-...   \n",
       "3         Organization  https://media.glassdoor.com/sqll/5631/trader-j...   \n",
       "4         Organization  https://media.glassdoor.com/sqll/371652/johnle...   \n",
       "\n",
       "               companyDetails/name companyDetails/sameAs  datePosted  \\\n",
       "0                      JOHNLEONARD   www.johnleonard.com  2020-04-21   \n",
       "1                      JOHNLEONARD   www.johnleonard.com  2020-04-17   \n",
       "2  Simon-Kucher &amp;amp; Partners  www.simon-kucher.com  2020-04-07   \n",
       "3            Trader Joe&amp;#039;s    www.traderjoes.com  2020-04-20   \n",
       "4                      JOHNLEONARD   www.johnleonard.com  2020-04-08   \n",
       "\n",
       "               employerName  employerRating          id  \\\n",
       "0               JOHNLEONARD             4.8  3474481524   \n",
       "1               JOHNLEONARD             4.8  3498359986   \n",
       "2   Simon-Kucher & Partners             4.1  3284376296   \n",
       "3              Trader Joe's             4.2  3536984411   \n",
       "4               JOHNLEONARD             4.8  3549912036   \n",
       "\n",
       "                                          jobDetails jobLocation/@type  \\\n",
       "0  Temporary Paralegal\\n\\nSalary: DOE\\n\\n3+ years...             Place   \n",
       "1  Temporary Administrative Assistant\\n\\nSalary: ...             Place   \n",
       "2  About Simon-Kucher & Partners For over 30 year...             Place   \n",
       "3  At this time workers across the country are im...             Place   \n",
       "4  Temporary Billing Specialist\\n\\nSalary: DOE\\n\\...             Place   \n",
       "\n",
       "                         ...                         jobLocation/geo/latitude  \\\n",
       "0                        ...                                          42.3583   \n",
       "1                        ...                                          42.3583   \n",
       "2                        ...                                          42.3683   \n",
       "3                        ...                                          42.3583   \n",
       "4                        ...                                          42.3583   \n",
       "\n",
       "  jobLocation/geo/longitude                                   jobTitle  \\\n",
       "0                  -71.0603                 Temporary Paralegal #28252   \n",
       "1                  -71.0603  Temporary Administrative Assistant #28319   \n",
       "2                  -71.0824                  Consultant, Life Sciences   \n",
       "3                  -71.0603           Temporary Retail Store Associate   \n",
       "4                  -71.0603        Temporary Billing Specialist #27819   \n",
       "\n",
       "     salary/@type salary/currency salary/value/@type salary/value/maxValue  \\\n",
       "0  MonetaryAmount             USD  QuantitativeValue               55000.0   \n",
       "1  MonetaryAmount             USD  QuantitativeValue               87000.0   \n",
       "2  MonetaryAmount             USD  QuantitativeValue              139233.0   \n",
       "3             NaN             NaN                NaN                   NaN   \n",
       "4  MonetaryAmount             USD  QuantitativeValue               80000.0   \n",
       "\n",
       "   salary/value/minValue  salary/value/unitText  \\\n",
       "0                50000.0                   YEAR   \n",
       "1                80000.0                   YEAR   \n",
       "2               108799.0                   YEAR   \n",
       "3                    NaN                    NaN   \n",
       "4                75000.0                   YEAR   \n",
       "\n",
       "                                                 url  \n",
       "0  https://www.glassdoor.com/job-listing/temporar...  \n",
       "1  https://www.glassdoor.com/job-listing/temporar...  \n",
       "2  https://www.glassdoor.com/job-listing/consulta...  \n",
       "3  https://www.glassdoor.com/job-listing/temporar...  \n",
       "4  https://www.glassdoor.com/job-listing/temporar...  \n",
       "\n",
       "[5 rows x 27 columns]"
      ]
     },
     "execution_count": 4,
     "metadata": {},
     "output_type": "execute_result"
    }
   ],
   "source": [
    "glassdoor1= pd.read_csv(r'/Users/karansoni/Desktop/semester 2/DMDD/jobs-projects/data/glassdoor-covid.csv')\n",
    "glassdoor2= pd.read_csv(r'/Users/karansoni/Desktop/semester 2/DMDD/jobs-projects/data/glassdoor-corona.csv')\n",
    "glassdoor3= pd.read_csv(r'/Users/karansoni/Desktop/semester 2/DMDD/jobs-projects/data/glassdoor-temporary.csv')\n",
    "glassdoor1.head()"
   ]
  },
  {
   "cell_type": "code",
   "execution_count": 88,
   "metadata": {
    "collapsed": false
   },
   "outputs": [
    {
     "data": {
      "text/html": [
       "<div>\n",
       "<style scoped>\n",
       "    .dataframe tbody tr th:only-of-type {\n",
       "        vertical-align: middle;\n",
       "    }\n",
       "\n",
       "    .dataframe tbody tr th {\n",
       "        vertical-align: top;\n",
       "    }\n",
       "\n",
       "    .dataframe thead th {\n",
       "        text-align: right;\n",
       "    }\n",
       "</style>\n",
       "<table border=\"1\" class=\"dataframe\">\n",
       "  <thead>\n",
       "    <tr style=\"text-align: right;\">\n",
       "      <th></th>\n",
       "      <th>employerName</th>\n",
       "      <th>employerRating</th>\n",
       "      <th>id</th>\n",
       "      <th>jobDetails</th>\n",
       "      <th>jobLocation/geo/longitude</th>\n",
       "      <th>jobTitle</th>\n",
       "      <th>url</th>\n",
       "    </tr>\n",
       "  </thead>\n",
       "  <tbody>\n",
       "    <tr>\n",
       "      <th>0</th>\n",
       "      <td>Bayer</td>\n",
       "      <td>3.9</td>\n",
       "      <td>3546663504</td>\n",
       "      <td>Bayer is a global enterprise with core compete...</td>\n",
       "      <td>-71.0603</td>\n",
       "      <td>Seed Tech</td>\n",
       "      <td>https://www.glassdoor.com/job-listing/seed-tec...</td>\n",
       "    </tr>\n",
       "    <tr>\n",
       "      <th>1</th>\n",
       "      <td>Boston Organics</td>\n",
       "      <td>3.4</td>\n",
       "      <td>3560714989</td>\n",
       "      <td>If you like working early mornings, being part...</td>\n",
       "      <td>-71.0603</td>\n",
       "      <td>Part Time Warehouse Worker</td>\n",
       "      <td>https://www.glassdoor.com/job-listing/part-tim...</td>\n",
       "    </tr>\n",
       "    <tr>\n",
       "      <th>2</th>\n",
       "      <td>Skyward Federal LLC</td>\n",
       "      <td>NaN</td>\n",
       "      <td>3549734457</td>\n",
       "      <td>Do you find yourself probing for vulnerabiliti...</td>\n",
       "      <td>-71.0603</td>\n",
       "      <td>Cyber Security Engineer</td>\n",
       "      <td>https://www.glassdoor.com/job-listing/cyber-se...</td>\n",
       "    </tr>\n",
       "    <tr>\n",
       "      <th>3</th>\n",
       "      <td>Business Payment Services</td>\n",
       "      <td>NaN</td>\n",
       "      <td>3538918366</td>\n",
       "      <td>We are welcoming sales agents with experience ...</td>\n",
       "      <td>-71.0603</td>\n",
       "      <td>Territory Sales Representative</td>\n",
       "      <td>https://www.glassdoor.com/job-listing/territor...</td>\n",
       "    </tr>\n",
       "    <tr>\n",
       "      <th>4</th>\n",
       "      <td>K Source Inc</td>\n",
       "      <td>3.7</td>\n",
       "      <td>3547910274</td>\n",
       "      <td>Role AWS Admin Location Cambridge, MA (Locals ...</td>\n",
       "      <td>-71.1061</td>\n",
       "      <td>AWS Admin (Locals Preferred)</td>\n",
       "      <td>https://www.glassdoor.com/job-listing/aws-admi...</td>\n",
       "    </tr>\n",
       "  </tbody>\n",
       "</table>\n",
       "</div>"
      ],
      "text/plain": [
       "                 employerName  employerRating          id  \\\n",
       "0                       Bayer             3.9  3546663504   \n",
       "1             Boston Organics             3.4  3560714989   \n",
       "2         Skyward Federal LLC             NaN  3549734457   \n",
       "3   Business Payment Services             NaN  3538918366   \n",
       "4                K Source Inc             3.7  3547910274   \n",
       "\n",
       "                                          jobDetails  \\\n",
       "0  Bayer is a global enterprise with core compete...   \n",
       "1  If you like working early mornings, being part...   \n",
       "2  Do you find yourself probing for vulnerabiliti...   \n",
       "3  We are welcoming sales agents with experience ...   \n",
       "4  Role AWS Admin Location Cambridge, MA (Locals ...   \n",
       "\n",
       "   jobLocation/geo/longitude                        jobTitle  \\\n",
       "0                   -71.0603                       Seed Tech   \n",
       "1                   -71.0603      Part Time Warehouse Worker   \n",
       "2                   -71.0603         Cyber Security Engineer   \n",
       "3                   -71.0603  Territory Sales Representative   \n",
       "4                   -71.1061    AWS Admin (Locals Preferred)   \n",
       "\n",
       "                                                 url  \n",
       "0  https://www.glassdoor.com/job-listing/seed-tec...  \n",
       "1  https://www.glassdoor.com/job-listing/part-tim...  \n",
       "2  https://www.glassdoor.com/job-listing/cyber-se...  \n",
       "3  https://www.glassdoor.com/job-listing/territor...  \n",
       "4  https://www.glassdoor.com/job-listing/aws-admi...  "
      ]
     },
     "execution_count": 88,
     "metadata": {},
     "output_type": "execute_result"
    }
   ],
   "source": [
    "glassdoor2.head()"
   ]
  },
  {
   "cell_type": "code",
   "execution_count": 89,
   "metadata": {
    "collapsed": false
   },
   "outputs": [
    {
     "data": {
      "text/html": [
       "<div>\n",
       "<style scoped>\n",
       "    .dataframe tbody tr th:only-of-type {\n",
       "        vertical-align: middle;\n",
       "    }\n",
       "\n",
       "    .dataframe tbody tr th {\n",
       "        vertical-align: top;\n",
       "    }\n",
       "\n",
       "    .dataframe thead th {\n",
       "        text-align: right;\n",
       "    }\n",
       "</style>\n",
       "<table border=\"1\" class=\"dataframe\">\n",
       "  <thead>\n",
       "    <tr style=\"text-align: right;\">\n",
       "      <th></th>\n",
       "      <th>employerName</th>\n",
       "      <th>employerRating</th>\n",
       "      <th>id</th>\n",
       "      <th>jobDetails</th>\n",
       "      <th>jobLocation/geo/longitude</th>\n",
       "      <th>jobTitle</th>\n",
       "      <th>url</th>\n",
       "    </tr>\n",
       "  </thead>\n",
       "  <tbody>\n",
       "    <tr>\n",
       "      <th>0</th>\n",
       "      <td>JOHNLEONARD</td>\n",
       "      <td>4.8</td>\n",
       "      <td>3474481524</td>\n",
       "      <td>Temporary Paralegal\\n\\nSalary: DOE\\n\\n3+ years...</td>\n",
       "      <td>-71.0603</td>\n",
       "      <td>Temporary Paralegal #28252</td>\n",
       "      <td>https://www.glassdoor.com/job-listing/temporar...</td>\n",
       "    </tr>\n",
       "    <tr>\n",
       "      <th>1</th>\n",
       "      <td>JOHNLEONARD</td>\n",
       "      <td>4.8</td>\n",
       "      <td>3498359986</td>\n",
       "      <td>Temporary Administrative Assistant\\n\\nSalary: ...</td>\n",
       "      <td>-71.0603</td>\n",
       "      <td>Temporary Administrative Assistant #28319</td>\n",
       "      <td>https://www.glassdoor.com/job-listing/temporar...</td>\n",
       "    </tr>\n",
       "    <tr>\n",
       "      <th>2</th>\n",
       "      <td>Simon-Kucher &amp; Partners</td>\n",
       "      <td>4.1</td>\n",
       "      <td>3284376296</td>\n",
       "      <td>About Simon-Kucher &amp; Partners For over 30 year...</td>\n",
       "      <td>-71.0824</td>\n",
       "      <td>Consultant, Life Sciences</td>\n",
       "      <td>https://www.glassdoor.com/job-listing/consulta...</td>\n",
       "    </tr>\n",
       "    <tr>\n",
       "      <th>3</th>\n",
       "      <td>Trader Joe's</td>\n",
       "      <td>4.2</td>\n",
       "      <td>3536984411</td>\n",
       "      <td>At this time workers across the country are im...</td>\n",
       "      <td>-71.0603</td>\n",
       "      <td>Temporary Retail Store Associate</td>\n",
       "      <td>https://www.glassdoor.com/job-listing/temporar...</td>\n",
       "    </tr>\n",
       "    <tr>\n",
       "      <th>4</th>\n",
       "      <td>JOHNLEONARD</td>\n",
       "      <td>4.8</td>\n",
       "      <td>3549912036</td>\n",
       "      <td>Temporary Billing Specialist\\n\\nSalary: DOE\\n\\...</td>\n",
       "      <td>-71.0603</td>\n",
       "      <td>Temporary Billing Specialist #27819</td>\n",
       "      <td>https://www.glassdoor.com/job-listing/temporar...</td>\n",
       "    </tr>\n",
       "  </tbody>\n",
       "</table>\n",
       "</div>"
      ],
      "text/plain": [
       "               employerName  employerRating          id  \\\n",
       "0               JOHNLEONARD             4.8  3474481524   \n",
       "1               JOHNLEONARD             4.8  3498359986   \n",
       "2   Simon-Kucher & Partners             4.1  3284376296   \n",
       "3              Trader Joe's             4.2  3536984411   \n",
       "4               JOHNLEONARD             4.8  3549912036   \n",
       "\n",
       "                                          jobDetails  \\\n",
       "0  Temporary Paralegal\\n\\nSalary: DOE\\n\\n3+ years...   \n",
       "1  Temporary Administrative Assistant\\n\\nSalary: ...   \n",
       "2  About Simon-Kucher & Partners For over 30 year...   \n",
       "3  At this time workers across the country are im...   \n",
       "4  Temporary Billing Specialist\\n\\nSalary: DOE\\n\\...   \n",
       "\n",
       "   jobLocation/geo/longitude                                   jobTitle  \\\n",
       "0                   -71.0603                 Temporary Paralegal #28252   \n",
       "1                   -71.0603  Temporary Administrative Assistant #28319   \n",
       "2                   -71.0824                  Consultant, Life Sciences   \n",
       "3                   -71.0603           Temporary Retail Store Associate   \n",
       "4                   -71.0603        Temporary Billing Specialist #27819   \n",
       "\n",
       "                                                 url  \n",
       "0  https://www.glassdoor.com/job-listing/temporar...  \n",
       "1  https://www.glassdoor.com/job-listing/temporar...  \n",
       "2  https://www.glassdoor.com/job-listing/consulta...  \n",
       "3  https://www.glassdoor.com/job-listing/temporar...  \n",
       "4  https://www.glassdoor.com/job-listing/temporar...  "
      ]
     },
     "execution_count": 89,
     "metadata": {},
     "output_type": "execute_result"
    }
   ],
   "source": [
    "glassdoor3.head()"
   ]
  },
  {
   "cell_type": "markdown",
   "metadata": {},
   "source": [
    "Data Validation\n",
    "\n",
    "\n"
   ]
  },
  {
   "cell_type": "code",
   "execution_count": null,
   "metadata": {
    "collapsed": true
   },
   "outputs": [],
   "source": []
  },
  {
   "cell_type": "code",
   "execution_count": 5,
   "metadata": {
    "collapsed": false
   },
   "outputs": [
    {
     "data": {
      "text/plain": [
       "companyDetails/@type                        False\n",
       "companyDetails/logo                          True\n",
       "companyDetails/name                         False\n",
       "companyDetails/sameAs                        True\n",
       "datePosted                                  False\n",
       "employerName                                False\n",
       "employerRating                               True\n",
       "id                                          False\n",
       "jobDetails                                  False\n",
       "jobLocation/@type                           False\n",
       "jobLocation/address/@type                   False\n",
       "jobLocation/address/addressCountry/@type    False\n",
       "jobLocation/address/addressCountry/name     False\n",
       "jobLocation/address/addressLocality         False\n",
       "jobLocation/address/addressRegion           False\n",
       "jobLocation/address/postalCode               True\n",
       "jobLocation/geo/@type                       False\n",
       "jobLocation/geo/latitude                    False\n",
       "jobLocation/geo/longitude                   False\n",
       "jobTitle                                    False\n",
       "salary/@type                                 True\n",
       "salary/currency                              True\n",
       "salary/value/@type                           True\n",
       "salary/value/maxValue                        True\n",
       "salary/value/minValue                        True\n",
       "salary/value/unitText                        True\n",
       "url                                         False\n",
       "dtype: bool"
      ]
     },
     "execution_count": 5,
     "metadata": {},
     "output_type": "execute_result"
    }
   ],
   "source": [
    "glassdoor1.isnull().any()"
   ]
  },
  {
   "cell_type": "code",
   "execution_count": 6,
   "metadata": {
    "collapsed": false
   },
   "outputs": [
    {
     "data": {
      "text/plain": [
       "companyDetails/@type                        False\n",
       "companyDetails/logo                          True\n",
       "companyDetails/name                         False\n",
       "companyDetails/sameAs                        True\n",
       "datePosted                                  False\n",
       "employerName                                False\n",
       "employerRating                               True\n",
       "id                                          False\n",
       "jobDetails                                  False\n",
       "jobLocation/@type                           False\n",
       "jobLocation/address/@type                   False\n",
       "jobLocation/address/addressCountry/@type    False\n",
       "jobLocation/address/addressCountry/name     False\n",
       "jobLocation/address/addressLocality         False\n",
       "jobLocation/address/addressRegion           False\n",
       "jobLocation/address/postalCode               True\n",
       "jobLocation/geo/@type                       False\n",
       "jobLocation/geo/latitude                    False\n",
       "jobLocation/geo/longitude                   False\n",
       "jobTitle                                    False\n",
       "salary/@type                                 True\n",
       "salary/currency                              True\n",
       "salary/value/@type                           True\n",
       "salary/value/maxValue                        True\n",
       "salary/value/minValue                        True\n",
       "salary/value/unitText                        True\n",
       "url                                         False\n",
       "dtype: bool"
      ]
     },
     "execution_count": 6,
     "metadata": {},
     "output_type": "execute_result"
    }
   ],
   "source": [
    "glassdoor2.isnull().any()"
   ]
  },
  {
   "cell_type": "code",
   "execution_count": 7,
   "metadata": {
    "collapsed": false
   },
   "outputs": [
    {
     "data": {
      "text/plain": [
       "companyDetails/@type                        False\n",
       "companyDetails/logo                          True\n",
       "companyDetails/name                         False\n",
       "companyDetails/sameAs                        True\n",
       "datePosted                                  False\n",
       "employerName                                False\n",
       "employerRating                               True\n",
       "id                                          False\n",
       "jobDetails                                  False\n",
       "jobLocation/@type                           False\n",
       "jobLocation/address/@type                   False\n",
       "jobLocation/address/addressCountry/@type    False\n",
       "jobLocation/address/addressCountry/name     False\n",
       "jobLocation/address/addressLocality         False\n",
       "jobLocation/address/addressRegion           False\n",
       "jobLocation/address/postalCode               True\n",
       "jobLocation/geo/@type                       False\n",
       "jobLocation/geo/latitude                    False\n",
       "jobLocation/geo/longitude                   False\n",
       "jobTitle                                    False\n",
       "salary/@type                                 True\n",
       "salary/currency                              True\n",
       "salary/value/@type                           True\n",
       "salary/value/maxValue                        True\n",
       "salary/value/minValue                        True\n",
       "salary/value/unitText                        True\n",
       "url                                         False\n",
       "dtype: bool"
      ]
     },
     "execution_count": 7,
     "metadata": {},
     "output_type": "execute_result"
    }
   ],
   "source": [
    "glassdoor3.isnull().any()"
   ]
  },
  {
   "cell_type": "markdown",
   "metadata": {},
   "source": [
    "### Data Manipulation\n",
    "\n",
    "\n"
   ]
  },
  {
   "cell_type": "code",
   "execution_count": 47,
   "metadata": {
    "collapsed": false
   },
   "outputs": [],
   "source": [
    "#All the data from the 3 tables are then stored to the file glassdoor.csv\n",
    "glassdoormain= pd.read_csv(r'/Users/karansoni/Desktop/semester 2/DMDD/jobs-projects/data/glassdoor.csv')"
   ]
  },
  {
   "cell_type": "code",
   "execution_count": 48,
   "metadata": {
    "collapsed": false
   },
   "outputs": [
    {
     "data": {
      "text/html": [
       "<div>\n",
       "<style scoped>\n",
       "    .dataframe tbody tr th:only-of-type {\n",
       "        vertical-align: middle;\n",
       "    }\n",
       "\n",
       "    .dataframe tbody tr th {\n",
       "        vertical-align: top;\n",
       "    }\n",
       "\n",
       "    .dataframe thead th {\n",
       "        text-align: right;\n",
       "    }\n",
       "</style>\n",
       "<table border=\"1\" class=\"dataframe\">\n",
       "  <thead>\n",
       "    <tr style=\"text-align: right;\">\n",
       "      <th></th>\n",
       "      <th>ID</th>\n",
       "      <th>jobDetails</th>\n",
       "      <th>jobTitle</th>\n",
       "      <th>url</th>\n",
       "      <th>employerRating</th>\n",
       "    </tr>\n",
       "  </thead>\n",
       "  <tbody>\n",
       "    <tr>\n",
       "      <th>0</th>\n",
       "      <td>1001</td>\n",
       "      <td>FamilyAid Boston, the citys largest human serv...</td>\n",
       "      <td>Bilingual (Spanish) Licensed/MSW Social Worker</td>\n",
       "      <td>https://www.glassdoor.com/job-listing/bilingua...</td>\n",
       "      <td>NaN</td>\n",
       "    </tr>\n",
       "    <tr>\n",
       "      <th>1</th>\n",
       "      <td>1002</td>\n",
       "      <td>Summary\\n\\n This position is in the Region 1, ...</td>\n",
       "      <td>Program Analyst</td>\n",
       "      <td>https://www.glassdoor.com/job-listing/program-...</td>\n",
       "      <td>3.3</td>\n",
       "    </tr>\n",
       "    <tr>\n",
       "      <th>2</th>\n",
       "      <td>1003</td>\n",
       "      <td>COVID -19 Social Compliance Officer - Military...</td>\n",
       "      <td>COVID-19 Social Compliance Officer - Military ...</td>\n",
       "      <td>https://www.glassdoor.com/job-listing/covid-19...</td>\n",
       "      <td>2.1</td>\n",
       "    </tr>\n",
       "    <tr>\n",
       "      <th>3</th>\n",
       "      <td>1004</td>\n",
       "      <td>If you like working early mornings, being part...</td>\n",
       "      <td>GeoCoordinates</td>\n",
       "      <td>https://www.glassdoor.com/job-listing/part-tim...</td>\n",
       "      <td>3.4</td>\n",
       "    </tr>\n",
       "    <tr>\n",
       "      <th>4</th>\n",
       "      <td>1005</td>\n",
       "      <td>Do you have a clean driving record and enjoy n...</td>\n",
       "      <td>GeoCoordinates</td>\n",
       "      <td>https://www.glassdoor.com/job-listing/delivery...</td>\n",
       "      <td>3.4</td>\n",
       "    </tr>\n",
       "  </tbody>\n",
       "</table>\n",
       "</div>"
      ],
      "text/plain": [
       "     ID                                         jobDetails  \\\n",
       "0  1001  FamilyAid Boston, the citys largest human serv...   \n",
       "1  1002  Summary\\n\\n This position is in the Region 1, ...   \n",
       "2  1003  COVID -19 Social Compliance Officer - Military...   \n",
       "3  1004  If you like working early mornings, being part...   \n",
       "4  1005  Do you have a clean driving record and enjoy n...   \n",
       "\n",
       "                                            jobTitle  \\\n",
       "0     Bilingual (Spanish) Licensed/MSW Social Worker   \n",
       "1                                    Program Analyst   \n",
       "2  COVID-19 Social Compliance Officer - Military ...   \n",
       "3                                     GeoCoordinates   \n",
       "4                                     GeoCoordinates   \n",
       "\n",
       "                                                 url  employerRating  \n",
       "0  https://www.glassdoor.com/job-listing/bilingua...             NaN  \n",
       "1  https://www.glassdoor.com/job-listing/program-...             3.3  \n",
       "2  https://www.glassdoor.com/job-listing/covid-19...             2.1  \n",
       "3  https://www.glassdoor.com/job-listing/part-tim...             3.4  \n",
       "4  https://www.glassdoor.com/job-listing/delivery...             3.4  "
      ]
     },
     "execution_count": 48,
     "metadata": {},
     "output_type": "execute_result"
    }
   ],
   "source": [
    "glassdoormain.head()"
   ]
  },
  {
   "cell_type": "code",
   "execution_count": 49,
   "metadata": {
    "collapsed": false
   },
   "outputs": [
    {
     "name": "stdout",
     "output_type": "stream",
     "text": [
      "<class 'pandas.core.frame.DataFrame'>\n",
      "RangeIndex: 511 entries, 0 to 510\n",
      "Data columns (total 5 columns):\n",
      "ID                511 non-null int64\n",
      "jobDetails        511 non-null object\n",
      "jobTitle          511 non-null object\n",
      "url               511 non-null object\n",
      "employerRating    478 non-null float64\n",
      "dtypes: float64(1), int64(1), object(3)\n",
      "memory usage: 20.0+ KB\n"
     ]
    }
   ],
   "source": [
    "glassdoormain.info()"
   ]
  },
  {
   "cell_type": "code",
   "execution_count": 50,
   "metadata": {
    "collapsed": false
   },
   "outputs": [
    {
     "data": {
      "text/plain": [
       "ID            False\n",
       "jobDetails    False\n",
       "jobTitle      False\n",
       "url           False\n",
       "dtype: bool"
      ]
     },
     "execution_count": 50,
     "metadata": {},
     "output_type": "execute_result"
    }
   ],
   "source": [
    "# Drop attributes that we don't need and check for null values\n",
    "glassdoormain.drop(['employerRating'], inplace=True, axis = 1)\n",
    "glassdoormain.isnull().any()"
   ]
  },
  {
   "cell_type": "code",
   "execution_count": 51,
   "metadata": {
    "collapsed": false
   },
   "outputs": [
    {
     "data": {
      "text/html": [
       "<div>\n",
       "<style scoped>\n",
       "    .dataframe tbody tr th:only-of-type {\n",
       "        vertical-align: middle;\n",
       "    }\n",
       "\n",
       "    .dataframe tbody tr th {\n",
       "        vertical-align: top;\n",
       "    }\n",
       "\n",
       "    .dataframe thead th {\n",
       "        text-align: right;\n",
       "    }\n",
       "</style>\n",
       "<table border=\"1\" class=\"dataframe\">\n",
       "  <thead>\n",
       "    <tr style=\"text-align: right;\">\n",
       "      <th></th>\n",
       "      <th>ID</th>\n",
       "      <th>jobDetails</th>\n",
       "      <th>jobTitle</th>\n",
       "      <th>url</th>\n",
       "    </tr>\n",
       "  </thead>\n",
       "  <tbody>\n",
       "    <tr>\n",
       "      <th>0</th>\n",
       "      <td>1001</td>\n",
       "      <td>FamilyAid Boston, the citys largest human serv...</td>\n",
       "      <td>Bilingual (Spanish) Licensed/MSW Social Worker</td>\n",
       "      <td>https://www.glassdoor.com/job-listing/bilingua...</td>\n",
       "    </tr>\n",
       "    <tr>\n",
       "      <th>1</th>\n",
       "      <td>1002</td>\n",
       "      <td>Summary\\n\\n This position is in the Region 1, ...</td>\n",
       "      <td>Program Analyst</td>\n",
       "      <td>https://www.glassdoor.com/job-listing/program-...</td>\n",
       "    </tr>\n",
       "    <tr>\n",
       "      <th>2</th>\n",
       "      <td>1003</td>\n",
       "      <td>COVID -19 Social Compliance Officer - Military...</td>\n",
       "      <td>COVID-19 Social Compliance Officer - Military ...</td>\n",
       "      <td>https://www.glassdoor.com/job-listing/covid-19...</td>\n",
       "    </tr>\n",
       "    <tr>\n",
       "      <th>3</th>\n",
       "      <td>1004</td>\n",
       "      <td>If you like working early mornings, being part...</td>\n",
       "      <td>GeoCoordinates</td>\n",
       "      <td>https://www.glassdoor.com/job-listing/part-tim...</td>\n",
       "    </tr>\n",
       "    <tr>\n",
       "      <th>4</th>\n",
       "      <td>1005</td>\n",
       "      <td>Do you have a clean driving record and enjoy n...</td>\n",
       "      <td>GeoCoordinates</td>\n",
       "      <td>https://www.glassdoor.com/job-listing/delivery...</td>\n",
       "    </tr>\n",
       "  </tbody>\n",
       "</table>\n",
       "</div>"
      ],
      "text/plain": [
       "     ID                                         jobDetails  \\\n",
       "0  1001  FamilyAid Boston, the citys largest human serv...   \n",
       "1  1002  Summary\\n\\n This position is in the Region 1, ...   \n",
       "2  1003  COVID -19 Social Compliance Officer - Military...   \n",
       "3  1004  If you like working early mornings, being part...   \n",
       "4  1005  Do you have a clean driving record and enjoy n...   \n",
       "\n",
       "                                            jobTitle  \\\n",
       "0     Bilingual (Spanish) Licensed/MSW Social Worker   \n",
       "1                                    Program Analyst   \n",
       "2  COVID-19 Social Compliance Officer - Military ...   \n",
       "3                                     GeoCoordinates   \n",
       "4                                     GeoCoordinates   \n",
       "\n",
       "                                                 url  \n",
       "0  https://www.glassdoor.com/job-listing/bilingua...  \n",
       "1  https://www.glassdoor.com/job-listing/program-...  \n",
       "2  https://www.glassdoor.com/job-listing/covid-19...  \n",
       "3  https://www.glassdoor.com/job-listing/part-tim...  \n",
       "4  https://www.glassdoor.com/job-listing/delivery...  "
      ]
     },
     "execution_count": 51,
     "metadata": {},
     "output_type": "execute_result"
    }
   ],
   "source": [
    "glassdoormain.head()"
   ]
  },
  {
   "cell_type": "code",
   "execution_count": 46,
   "metadata": {
    "collapsed": false
   },
   "outputs": [
    {
     "data": {
      "text/plain": [
       "True"
      ]
     },
     "execution_count": 46,
     "metadata": {},
     "output_type": "execute_result"
    }
   ],
   "source": [
    "glassdoormain['ID'].is_unique"
   ]
  },
  {
   "cell_type": "code",
   "execution_count": 54,
   "metadata": {
    "collapsed": true
   },
   "outputs": [],
   "source": [
    "# Writing the cleaned data into a new csv file named data1.csv\n",
    "glassdoormain.to_csv(r'/Users/karansoni/Desktop/semester 2/DMDD/jobs-projects/data/data1.csv')"
   ]
  },
  {
   "cell_type": "markdown",
   "metadata": {},
   "source": [
    "# Indeed data"
   ]
  },
  {
   "cell_type": "code",
   "execution_count": 52,
   "metadata": {
    "collapsed": true
   },
   "outputs": [],
   "source": [
    "#All the data from the 3 tables are then stored to the file indeed.csv\n",
    "indeed= pd.read_csv(r'/Users/karansoni/Desktop/semester 2/DMDD/jobs-projects/data/indeed.csv')"
   ]
  },
  {
   "cell_type": "code",
   "execution_count": 53,
   "metadata": {
    "collapsed": false
   },
   "outputs": [
    {
     "data": {
      "text/html": [
       "<div>\n",
       "<style scoped>\n",
       "    .dataframe tbody tr th:only-of-type {\n",
       "        vertical-align: middle;\n",
       "    }\n",
       "\n",
       "    .dataframe tbody tr th {\n",
       "        vertical-align: top;\n",
       "    }\n",
       "\n",
       "    .dataframe thead th {\n",
       "        text-align: right;\n",
       "    }\n",
       "</style>\n",
       "<table border=\"1\" class=\"dataframe\">\n",
       "  <thead>\n",
       "    <tr style=\"text-align: right;\">\n",
       "      <th></th>\n",
       "      <th>ID</th>\n",
       "      <th>jobDetails</th>\n",
       "      <th>jobTitle</th>\n",
       "      <th>url</th>\n",
       "    </tr>\n",
       "  </thead>\n",
       "  <tbody>\n",
       "    <tr>\n",
       "      <th>0</th>\n",
       "      <td>2001</td>\n",
       "      <td>Are you a skilled craftsman or motivated train...</td>\n",
       "      <td>SHEETMETAL INSTALLER- ESSENTIAL COVID SAFE BUS...</td>\n",
       "      <td>https://www.indeed.com/pagead/clk?mo=r&amp;ad=-6NY...</td>\n",
       "    </tr>\n",
       "    <tr>\n",
       "      <th>1</th>\n",
       "      <td>2002</td>\n",
       "      <td>Description:\\nThe Lowell General Hospital Alte...</td>\n",
       "      <td>Patient Care Technician, Nursing Assistant, CN...</td>\n",
       "      <td>https://www.indeed.com/pagead/clk?mo=r&amp;ad=-6NY...</td>\n",
       "    </tr>\n",
       "    <tr>\n",
       "      <th>2</th>\n",
       "      <td>2003</td>\n",
       "      <td>You will receive a $300 SIGN-ON BONUS when you...</td>\n",
       "      <td>Caregiver for COVID Clients</td>\n",
       "      <td>https://www.indeed.com/rc/clk?jk=2b9e199638761...</td>\n",
       "    </tr>\n",
       "    <tr>\n",
       "      <th>3</th>\n",
       "      <td>2004</td>\n",
       "      <td>Type: Temporary approximately for 1 monthShift...</td>\n",
       "      <td>Health Screener</td>\n",
       "      <td>https://www.indeed.com/company/Biokinetix/jobs...</td>\n",
       "    </tr>\n",
       "    <tr>\n",
       "      <th>4</th>\n",
       "      <td>2005</td>\n",
       "      <td>CNAs and HHAs and Nurses Needed to Care for Se...</td>\n",
       "      <td>CNAs pos COVID clients PPE+ Bonuses Plymouth, ...</td>\n",
       "      <td>https://www.indeed.com/pagead/clk?mo=r&amp;ad=-6NY...</td>\n",
       "    </tr>\n",
       "  </tbody>\n",
       "</table>\n",
       "</div>"
      ],
      "text/plain": [
       "     ID                                         jobDetails  \\\n",
       "0  2001  Are you a skilled craftsman or motivated train...   \n",
       "1  2002  Description:\\nThe Lowell General Hospital Alte...   \n",
       "2  2003  You will receive a $300 SIGN-ON BONUS when you...   \n",
       "3  2004  Type: Temporary approximately for 1 monthShift...   \n",
       "4  2005  CNAs and HHAs and Nurses Needed to Care for Se...   \n",
       "\n",
       "                                            jobTitle  \\\n",
       "0  SHEETMETAL INSTALLER- ESSENTIAL COVID SAFE BUS...   \n",
       "1  Patient Care Technician, Nursing Assistant, CN...   \n",
       "2                        Caregiver for COVID Clients   \n",
       "3                                    Health Screener   \n",
       "4  CNAs pos COVID clients PPE+ Bonuses Plymouth, ...   \n",
       "\n",
       "                                                 url  \n",
       "0  https://www.indeed.com/pagead/clk?mo=r&ad=-6NY...  \n",
       "1  https://www.indeed.com/pagead/clk?mo=r&ad=-6NY...  \n",
       "2  https://www.indeed.com/rc/clk?jk=2b9e199638761...  \n",
       "3  https://www.indeed.com/company/Biokinetix/jobs...  \n",
       "4  https://www.indeed.com/pagead/clk?mo=r&ad=-6NY...  "
      ]
     },
     "execution_count": 53,
     "metadata": {},
     "output_type": "execute_result"
    }
   ],
   "source": [
    "indeed.head()"
   ]
  },
  {
   "cell_type": "code",
   "execution_count": 55,
   "metadata": {
    "collapsed": false
   },
   "outputs": [
    {
     "data": {
      "text/plain": [
       "ID            False\n",
       "jobDetails    False\n",
       "jobTitle      False\n",
       "url           False\n",
       "dtype: bool"
      ]
     },
     "execution_count": 55,
     "metadata": {},
     "output_type": "execute_result"
    }
   ],
   "source": [
    "indeed.isnull().any()"
   ]
  },
  {
   "cell_type": "code",
   "execution_count": 56,
   "metadata": {
    "collapsed": false
   },
   "outputs": [
    {
     "name": "stdout",
     "output_type": "stream",
     "text": [
      "<class 'pandas.core.frame.DataFrame'>\n",
      "RangeIndex: 1996 entries, 0 to 1995\n",
      "Data columns (total 4 columns):\n",
      "ID            1996 non-null int64\n",
      "jobDetails    1996 non-null object\n",
      "jobTitle      1996 non-null object\n",
      "url           1996 non-null object\n",
      "dtypes: int64(1), object(3)\n",
      "memory usage: 62.5+ KB\n"
     ]
    }
   ],
   "source": [
    "indeed.info()"
   ]
  },
  {
   "cell_type": "code",
   "execution_count": 58,
   "metadata": {
    "collapsed": false
   },
   "outputs": [
    {
     "data": {
      "text/plain": [
       "True"
      ]
     },
     "execution_count": 58,
     "metadata": {},
     "output_type": "execute_result"
    }
   ],
   "source": [
    "indeed['ID'].is_unique"
   ]
  },
  {
   "cell_type": "code",
   "execution_count": 59,
   "metadata": {
    "collapsed": true
   },
   "outputs": [],
   "source": [
    "# Writing the cleaned data into a new csv file named data1.csv\n",
    "indeed.to_csv(r'/Users/karansoni/Desktop/semester 2/DMDD/jobs-projects/data/data2.csv')"
   ]
  },
  {
   "cell_type": "markdown",
   "metadata": {},
   "source": [
    "## Combining the data files"
   ]
  },
  {
   "cell_type": "code",
   "execution_count": 79,
   "metadata": {
    "collapsed": true
   },
   "outputs": [],
   "source": [
    "data1= pd.read_csv(r'/Users/karansoni/Desktop/semester 2/DMDD/jobs-projects/data/data1.csv')\n",
    "data2= pd.read_csv(r'/Users/karansoni/Desktop/semester 2/DMDD/jobs-projects/data/data2.csv')"
   ]
  },
  {
   "cell_type": "code",
   "execution_count": 80,
   "metadata": {
    "collapsed": false
   },
   "outputs": [
    {
     "data": {
      "text/html": [
       "<div>\n",
       "<style scoped>\n",
       "    .dataframe tbody tr th:only-of-type {\n",
       "        vertical-align: middle;\n",
       "    }\n",
       "\n",
       "    .dataframe tbody tr th {\n",
       "        vertical-align: top;\n",
       "    }\n",
       "\n",
       "    .dataframe thead th {\n",
       "        text-align: right;\n",
       "    }\n",
       "</style>\n",
       "<table border=\"1\" class=\"dataframe\">\n",
       "  <thead>\n",
       "    <tr style=\"text-align: right;\">\n",
       "      <th></th>\n",
       "      <th>ID</th>\n",
       "      <th>jobDetails</th>\n",
       "      <th>jobTitle</th>\n",
       "      <th>url</th>\n",
       "    </tr>\n",
       "  </thead>\n",
       "  <tbody>\n",
       "    <tr>\n",
       "      <th>0</th>\n",
       "      <td>1001</td>\n",
       "      <td>FamilyAid Boston, the citys largest human serv...</td>\n",
       "      <td>Bilingual (Spanish) Licensed/MSW Social Worker</td>\n",
       "      <td>https://www.glassdoor.com/job-listing/bilingua...</td>\n",
       "    </tr>\n",
       "    <tr>\n",
       "      <th>1</th>\n",
       "      <td>1002</td>\n",
       "      <td>Summary\\n\\n This position is in the Region 1, ...</td>\n",
       "      <td>Program Analyst</td>\n",
       "      <td>https://www.glassdoor.com/job-listing/program-...</td>\n",
       "    </tr>\n",
       "    <tr>\n",
       "      <th>2</th>\n",
       "      <td>1003</td>\n",
       "      <td>COVID -19 Social Compliance Officer - Military...</td>\n",
       "      <td>COVID-19 Social Compliance Officer - Military ...</td>\n",
       "      <td>https://www.glassdoor.com/job-listing/covid-19...</td>\n",
       "    </tr>\n",
       "    <tr>\n",
       "      <th>3</th>\n",
       "      <td>1004</td>\n",
       "      <td>If you like working early mornings, being part...</td>\n",
       "      <td>GeoCoordinates</td>\n",
       "      <td>https://www.glassdoor.com/job-listing/part-tim...</td>\n",
       "    </tr>\n",
       "    <tr>\n",
       "      <th>4</th>\n",
       "      <td>1005</td>\n",
       "      <td>Do you have a clean driving record and enjoy n...</td>\n",
       "      <td>GeoCoordinates</td>\n",
       "      <td>https://www.glassdoor.com/job-listing/delivery...</td>\n",
       "    </tr>\n",
       "  </tbody>\n",
       "</table>\n",
       "</div>"
      ],
      "text/plain": [
       "     ID                                         jobDetails  \\\n",
       "0  1001  FamilyAid Boston, the citys largest human serv...   \n",
       "1  1002  Summary\\n\\n This position is in the Region 1, ...   \n",
       "2  1003  COVID -19 Social Compliance Officer - Military...   \n",
       "3  1004  If you like working early mornings, being part...   \n",
       "4  1005  Do you have a clean driving record and enjoy n...   \n",
       "\n",
       "                                            jobTitle  \\\n",
       "0     Bilingual (Spanish) Licensed/MSW Social Worker   \n",
       "1                                    Program Analyst   \n",
       "2  COVID-19 Social Compliance Officer - Military ...   \n",
       "3                                     GeoCoordinates   \n",
       "4                                     GeoCoordinates   \n",
       "\n",
       "                                                 url  \n",
       "0  https://www.glassdoor.com/job-listing/bilingua...  \n",
       "1  https://www.glassdoor.com/job-listing/program-...  \n",
       "2  https://www.glassdoor.com/job-listing/covid-19...  \n",
       "3  https://www.glassdoor.com/job-listing/part-tim...  \n",
       "4  https://www.glassdoor.com/job-listing/delivery...  "
      ]
     },
     "execution_count": 80,
     "metadata": {},
     "output_type": "execute_result"
    }
   ],
   "source": [
    "data1.head()"
   ]
  },
  {
   "cell_type": "code",
   "execution_count": 81,
   "metadata": {
    "collapsed": false
   },
   "outputs": [
    {
     "data": {
      "text/html": [
       "<div>\n",
       "<style scoped>\n",
       "    .dataframe tbody tr th:only-of-type {\n",
       "        vertical-align: middle;\n",
       "    }\n",
       "\n",
       "    .dataframe tbody tr th {\n",
       "        vertical-align: top;\n",
       "    }\n",
       "\n",
       "    .dataframe thead th {\n",
       "        text-align: right;\n",
       "    }\n",
       "</style>\n",
       "<table border=\"1\" class=\"dataframe\">\n",
       "  <thead>\n",
       "    <tr style=\"text-align: right;\">\n",
       "      <th></th>\n",
       "      <th>ID</th>\n",
       "      <th>jobDetails</th>\n",
       "      <th>jobTitle</th>\n",
       "      <th>url</th>\n",
       "    </tr>\n",
       "  </thead>\n",
       "  <tbody>\n",
       "    <tr>\n",
       "      <th>0</th>\n",
       "      <td>2001</td>\n",
       "      <td>Are you a skilled craftsman or motivated train...</td>\n",
       "      <td>SHEETMETAL INSTALLER- ESSENTIAL COVID SAFE BUS...</td>\n",
       "      <td>https://www.indeed.com/pagead/clk?mo=r&amp;ad=-6NY...</td>\n",
       "    </tr>\n",
       "    <tr>\n",
       "      <th>1</th>\n",
       "      <td>2002</td>\n",
       "      <td>Description:\\nThe Lowell General Hospital Alte...</td>\n",
       "      <td>Patient Care Technician, Nursing Assistant, CN...</td>\n",
       "      <td>https://www.indeed.com/pagead/clk?mo=r&amp;ad=-6NY...</td>\n",
       "    </tr>\n",
       "    <tr>\n",
       "      <th>2</th>\n",
       "      <td>2003</td>\n",
       "      <td>You will receive a $300 SIGN-ON BONUS when you...</td>\n",
       "      <td>Caregiver for COVID Clients</td>\n",
       "      <td>https://www.indeed.com/rc/clk?jk=2b9e199638761...</td>\n",
       "    </tr>\n",
       "    <tr>\n",
       "      <th>3</th>\n",
       "      <td>2004</td>\n",
       "      <td>Type: Temporary approximately for 1 monthShift...</td>\n",
       "      <td>Health Screener</td>\n",
       "      <td>https://www.indeed.com/company/Biokinetix/jobs...</td>\n",
       "    </tr>\n",
       "    <tr>\n",
       "      <th>4</th>\n",
       "      <td>2005</td>\n",
       "      <td>CNAs and HHAs and Nurses Needed to Care for Se...</td>\n",
       "      <td>CNAs pos COVID clients PPE+ Bonuses Plymouth, ...</td>\n",
       "      <td>https://www.indeed.com/pagead/clk?mo=r&amp;ad=-6NY...</td>\n",
       "    </tr>\n",
       "  </tbody>\n",
       "</table>\n",
       "</div>"
      ],
      "text/plain": [
       "     ID                                         jobDetails  \\\n",
       "0  2001  Are you a skilled craftsman or motivated train...   \n",
       "1  2002  Description:\\nThe Lowell General Hospital Alte...   \n",
       "2  2003  You will receive a $300 SIGN-ON BONUS when you...   \n",
       "3  2004  Type: Temporary approximately for 1 monthShift...   \n",
       "4  2005  CNAs and HHAs and Nurses Needed to Care for Se...   \n",
       "\n",
       "                                            jobTitle  \\\n",
       "0  SHEETMETAL INSTALLER- ESSENTIAL COVID SAFE BUS...   \n",
       "1  Patient Care Technician, Nursing Assistant, CN...   \n",
       "2                        Caregiver for COVID Clients   \n",
       "3                                    Health Screener   \n",
       "4  CNAs pos COVID clients PPE+ Bonuses Plymouth, ...   \n",
       "\n",
       "                                                 url  \n",
       "0  https://www.indeed.com/pagead/clk?mo=r&ad=-6NY...  \n",
       "1  https://www.indeed.com/pagead/clk?mo=r&ad=-6NY...  \n",
       "2  https://www.indeed.com/rc/clk?jk=2b9e199638761...  \n",
       "3  https://www.indeed.com/company/Biokinetix/jobs...  \n",
       "4  https://www.indeed.com/pagead/clk?mo=r&ad=-6NY...  "
      ]
     },
     "execution_count": 81,
     "metadata": {},
     "output_type": "execute_result"
    }
   ],
   "source": [
    "data2.head()"
   ]
  },
  {
   "cell_type": "code",
   "execution_count": 82,
   "metadata": {
    "collapsed": false
   },
   "outputs": [],
   "source": [
    "alljobs = pd.concat([data1, data2], ignore_index=True)"
   ]
  },
  {
   "cell_type": "code",
   "execution_count": 83,
   "metadata": {
    "collapsed": false
   },
   "outputs": [
    {
     "data": {
      "text/html": [
       "<div>\n",
       "<style scoped>\n",
       "    .dataframe tbody tr th:only-of-type {\n",
       "        vertical-align: middle;\n",
       "    }\n",
       "\n",
       "    .dataframe tbody tr th {\n",
       "        vertical-align: top;\n",
       "    }\n",
       "\n",
       "    .dataframe thead th {\n",
       "        text-align: right;\n",
       "    }\n",
       "</style>\n",
       "<table border=\"1\" class=\"dataframe\">\n",
       "  <thead>\n",
       "    <tr style=\"text-align: right;\">\n",
       "      <th></th>\n",
       "      <th>ID</th>\n",
       "      <th>jobDetails</th>\n",
       "      <th>jobTitle</th>\n",
       "      <th>url</th>\n",
       "    </tr>\n",
       "  </thead>\n",
       "  <tbody>\n",
       "    <tr>\n",
       "      <th>0</th>\n",
       "      <td>1001</td>\n",
       "      <td>FamilyAid Boston, the citys largest human serv...</td>\n",
       "      <td>Bilingual (Spanish) Licensed/MSW Social Worker</td>\n",
       "      <td>https://www.glassdoor.com/job-listing/bilingua...</td>\n",
       "    </tr>\n",
       "    <tr>\n",
       "      <th>1</th>\n",
       "      <td>1002</td>\n",
       "      <td>Summary\\n\\n This position is in the Region 1, ...</td>\n",
       "      <td>Program Analyst</td>\n",
       "      <td>https://www.glassdoor.com/job-listing/program-...</td>\n",
       "    </tr>\n",
       "    <tr>\n",
       "      <th>2</th>\n",
       "      <td>1003</td>\n",
       "      <td>COVID -19 Social Compliance Officer - Military...</td>\n",
       "      <td>COVID-19 Social Compliance Officer - Military ...</td>\n",
       "      <td>https://www.glassdoor.com/job-listing/covid-19...</td>\n",
       "    </tr>\n",
       "    <tr>\n",
       "      <th>3</th>\n",
       "      <td>1004</td>\n",
       "      <td>If you like working early mornings, being part...</td>\n",
       "      <td>GeoCoordinates</td>\n",
       "      <td>https://www.glassdoor.com/job-listing/part-tim...</td>\n",
       "    </tr>\n",
       "    <tr>\n",
       "      <th>4</th>\n",
       "      <td>1005</td>\n",
       "      <td>Do you have a clean driving record and enjoy n...</td>\n",
       "      <td>GeoCoordinates</td>\n",
       "      <td>https://www.glassdoor.com/job-listing/delivery...</td>\n",
       "    </tr>\n",
       "  </tbody>\n",
       "</table>\n",
       "</div>"
      ],
      "text/plain": [
       "     ID                                         jobDetails  \\\n",
       "0  1001  FamilyAid Boston, the citys largest human serv...   \n",
       "1  1002  Summary\\n\\n This position is in the Region 1, ...   \n",
       "2  1003  COVID -19 Social Compliance Officer - Military...   \n",
       "3  1004  If you like working early mornings, being part...   \n",
       "4  1005  Do you have a clean driving record and enjoy n...   \n",
       "\n",
       "                                            jobTitle  \\\n",
       "0     Bilingual (Spanish) Licensed/MSW Social Worker   \n",
       "1                                    Program Analyst   \n",
       "2  COVID-19 Social Compliance Officer - Military ...   \n",
       "3                                     GeoCoordinates   \n",
       "4                                     GeoCoordinates   \n",
       "\n",
       "                                                 url  \n",
       "0  https://www.glassdoor.com/job-listing/bilingua...  \n",
       "1  https://www.glassdoor.com/job-listing/program-...  \n",
       "2  https://www.glassdoor.com/job-listing/covid-19...  \n",
       "3  https://www.glassdoor.com/job-listing/part-tim...  \n",
       "4  https://www.glassdoor.com/job-listing/delivery...  "
      ]
     },
     "execution_count": 83,
     "metadata": {},
     "output_type": "execute_result"
    }
   ],
   "source": [
    "alljobs.head()"
   ]
  },
  {
   "cell_type": "code",
   "execution_count": 84,
   "metadata": {
    "collapsed": false
   },
   "outputs": [
    {
     "name": "stdout",
     "output_type": "stream",
     "text": [
      "<class 'pandas.core.frame.DataFrame'>\n",
      "RangeIndex: 2507 entries, 0 to 2506\n",
      "Data columns (total 4 columns):\n",
      "ID            2507 non-null int64\n",
      "jobDetails    2507 non-null object\n",
      "jobTitle      2507 non-null object\n",
      "url           2507 non-null object\n",
      "dtypes: int64(1), object(3)\n",
      "memory usage: 78.4+ KB\n"
     ]
    }
   ],
   "source": [
    "alljobs.info()"
   ]
  },
  {
   "cell_type": "code",
   "execution_count": 85,
   "metadata": {
    "collapsed": false
   },
   "outputs": [],
   "source": [
    "alljobs = alljobs.to_csv(r'/Users/karansoni/Desktop/semester 2/DMDD/jobs-projects/data/jobs.csv')"
   ]
  },
  {
   "cell_type": "markdown",
   "metadata": {},
   "source": [
    "We have now generated a collection of 2507 job listings extracted from Glassdoor and Indeed."
   ]
  },
  {
   "cell_type": "code",
   "execution_count": 86,
   "metadata": {
    "collapsed": false
   },
   "outputs": [
    {
     "data": {
      "image/png": "[encoded data removed]",
      "text/plain": [
       "<IPython.core.display.Image object>"
      ]
     },
     "execution_count": 86,
     "metadata": {},
     "output_type": "execute_result"
    }
   ],
   "source": [
    "from IPython.display import Image\n",
    "Image(r'/Users/karansoni/Desktop/basic-er.png')"
   ]
  },
  {
   "cell_type": "markdown",
   "metadata": {},
   "source": [
    "## Conclusion"
   ]
  },
  {
   "cell_type": "markdown",
   "metadata": {},
   "source": [
    "Here, we have sucessfull created a database containing 2507 job lisitings extracted from Job boards like Glassdoor and Indeed, we have kept the Job_ID or 'ID' as the primary key used to track each listing from the data."
   ]
  },
  {
   "cell_type": "markdown",
   "metadata": {},
   "source": [
    "## License "
   ]
  },
  {
   "cell_type": "markdown",
   "metadata": {},
   "source": [
    "Copyright 2020 Karan Soni\n",
    "Permission is hereby granted, free of charge, to any person obtaining a copy of this software and associated documentation files (the \"Software\"), to deal in the Software without restriction, including without limitation the rights to use, copy, modify, merge, publish, distribute, sublicense, and/or sell copies of the Software, and to permit persons to whom the Software is furnished to do so, subject to the following conditions:\n",
    "The above copyright notice and this permission notice shall be included in all copies or substantial portions of the Software.\n",
    "THE SOFTWARE IS PROVIDED \"AS IS\", WITHOUT WARRANTY OF ANY KIND, EXPRESS OR IMPLIED, INCLUDING BUT NOT LIMITED TO THE WARRANTIES OF MERCHANTABILITY, FITNESS FOR A PARTICULAR PURPOSE AND NONINFRINGEMENT. IN NO EVENT SHALL THE AUTHORS OR COPYRIGHT HOLDERS BE LIABLE FOR ANY CLAIM, DAMAGES OR OTHER LIABILITY, WHETHER IN AN ACTION OF CONTRACT, TORT OR OTHERWISE, ARISING FROM, OUT OF OR IN CONNECTION WITH THE SOFTWARE OR THE USE OR OTHER DEALINGS IN THE SOFTWARE."
   ]
  }
 ],
 "metadata": {
  "anaconda-cloud": {},
  "kernelspec": {
   "display_name": "Python [Root]",
   "language": "python",
   "name": "Python [Root]"
  },
  "language_info": {
   "codemirror_mode": {
    "name": "ipython",
    "version": 3
   },
   "file_extension": ".py",
   "mimetype": "text/x-python",
   "name": "python",
   "nbconvert_exporter": "python",
   "pygments_lexer": "ipython3",
   "version": "3.5.2"
  }
 },
 "nbformat": 4,
 "nbformat_minor": 0
}
